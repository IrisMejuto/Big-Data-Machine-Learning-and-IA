{
 "cells": [
  {
   "cell_type": "markdown",
   "id": "f2ac4dcd",
   "metadata": {},
   "source": [
    "<img src=\"images/keepcoding.png\" width=200 align=\"left\">"
   ]
  },
  {
   "cell_type": "markdown",
   "id": "9b439de7",
   "metadata": {},
   "source": [
    "# Módulo de Matemáticas 101: práctica\n",
    "\n",
    "Vamos a poner de nuevo en práctica lo que hemos visto en este módulo. La práctica se centra en la regresión lineal (¡tema muy importante!) y podéis preguntarme las dudas que tengáis por Discord. ¡Mucha suerte!\n",
    "\n",
    "<img src=\"./images/luck.gif\" alt=\"Drawing\" style=\"width: 300px;\"/>"
   ]
  },
  {
   "cell_type": "markdown",
   "id": "3d586f09",
   "metadata": {},
   "source": [
    "## 1. Regresión lineal con mínimos cuadrados\n",
    "\n",
    "En este ejercicio vamos a implementar la forma matricial de la regresión lineal con el método de los mínimos cuadrados. Para ello, tendrás que:\n",
    "\n",
    "- Explorar un dataset\n",
    "- Implementar la regresión lineal\n",
    "- Aplicarla a un dataset concreto\n",
    "\n",
    "Como recordatorio, los valores de los pesos $\\widehat{w}$ vienen dados por:\n",
    "\n",
    "<center>$\\widehat{w} = (X^T X)^{-1}X^T y,$</center>\n",
    "\n",
    "Donde $y$ es la variable a predecir y $X$ la matriz de features (NOTA: revisa cómo se define en los apuntes). Sabemos que los pesos van a ser los parámetros de la ecuación lineal que estamos intentando ajustar y tendremos uno por cada variable de entrada que usemos y además un término independiente o bias."
   ]
  },
  {
   "cell_type": "markdown",
   "id": "e574f77d",
   "metadata": {},
   "source": [
    "### 1.1 Carga del dataset y exploración de datos\n",
    "\n",
    "Vamos a usar el dataset de [Auto MPG](https://archive.ics.uci.edu/dataset/9/auto+mpg) que podemos encontrar en el [repositorio de Machine learning de UC Irvine](https://archive.ics.uci.edu/). Lo primero, vamos a familiarizarnos con los datos.\n",
    "\n",
    "En el propio repositorio nos indican cómo descargar el dataset con su librería (podemos consultar el código fuente si queremos)."
   ]
  },
  {
   "cell_type": "code",
   "execution_count": 2,
   "id": "4b5aac08",
   "metadata": {},
   "outputs": [
    {
     "name": "stdout",
     "output_type": "stream",
     "text": [
      "Requirement already satisfied: ucimlrepo in z:\\programas\\anaconda\\envs\\big_data\\lib\\site-packages (0.0.7)\n",
      "Requirement already satisfied: pandas>=1.0.0 in c:\\users\\irism\\appdata\\roaming\\python\\python312\\site-packages (from ucimlrepo) (2.2.3)\n",
      "Requirement already satisfied: certifi>=2020.12.5 in c:\\users\\irism\\appdata\\roaming\\python\\python312\\site-packages (from ucimlrepo) (2024.8.30)\n",
      "Requirement already satisfied: numpy>=1.26.0 in c:\\users\\irism\\appdata\\roaming\\python\\python312\\site-packages (from pandas>=1.0.0->ucimlrepo) (2.1.2)\n",
      "Requirement already satisfied: python-dateutil>=2.8.2 in c:\\users\\irism\\appdata\\roaming\\python\\python312\\site-packages (from pandas>=1.0.0->ucimlrepo) (2.9.0.post0)\n",
      "Requirement already satisfied: pytz>=2020.1 in z:\\programas\\anaconda\\envs\\big_data\\lib\\site-packages (from pandas>=1.0.0->ucimlrepo) (2024.1)\n",
      "Requirement already satisfied: tzdata>=2022.7 in c:\\users\\irism\\appdata\\roaming\\python\\python312\\site-packages (from pandas>=1.0.0->ucimlrepo) (2024.2)\n",
      "Requirement already satisfied: six>=1.5 in c:\\users\\irism\\appdata\\roaming\\python\\python312\\site-packages (from python-dateutil>=2.8.2->pandas>=1.0.0->ucimlrepo) (1.16.0)\n"
     ]
    }
   ],
   "source": [
    "!pip install ucimlrepo"
   ]
  },
  {
   "cell_type": "code",
   "execution_count": 3,
   "id": "d69d9185",
   "metadata": {},
   "outputs": [
    {
     "name": "stdout",
     "output_type": "stream",
     "text": [
      "{'uci_id': 9, 'name': 'Auto MPG', 'repository_url': 'https://archive.ics.uci.edu/dataset/9/auto+mpg', 'data_url': 'https://archive.ics.uci.edu/static/public/9/data.csv', 'abstract': 'Revised from CMU StatLib library, data concerns city-cycle fuel consumption', 'area': 'Other', 'tasks': ['Regression'], 'characteristics': ['Multivariate'], 'num_instances': 398, 'num_features': 7, 'feature_types': ['Real', 'Categorical', 'Integer'], 'demographics': [], 'target_col': ['mpg'], 'index_col': ['car_name'], 'has_missing_values': 'yes', 'missing_values_symbol': 'NaN', 'year_of_dataset_creation': 1993, 'last_updated': 'Thu Aug 10 2023', 'dataset_doi': '10.24432/C5859H', 'creators': ['R. Quinlan'], 'intro_paper': None, 'additional_info': {'summary': 'This dataset is a slightly modified version of the dataset provided in the StatLib library.  In line with the use by Ross Quinlan (1993) in predicting the attribute \"mpg\", 8 of the original instances were removed because they had unknown values for the \"mpg\" attribute.  The original dataset is available in the file \"auto-mpg.data-original\".\\r\\n\\r\\n\"The data concerns city-cycle fuel consumption in miles per gallon, to be predicted in terms of 3 multivalued discrete and 5 continuous attributes.\" (Quinlan, 1993)', 'purpose': None, 'funded_by': None, 'instances_represent': None, 'recommended_data_splits': None, 'sensitive_data': None, 'preprocessing_description': None, 'variable_info': '    1. mpg:           continuous\\r\\n    2. cylinders:     multi-valued discrete\\r\\n    3. displacement:  continuous\\r\\n    4. horsepower:    continuous\\r\\n    5. weight:        continuous\\r\\n    6. acceleration:  continuous\\r\\n    7. model year:    multi-valued discrete\\r\\n    8. origin:        multi-valued discrete\\r\\n    9. car name:      string (unique for each instance)', 'citation': None}}\n",
      "           name     role         type demographic description units  \\\n",
      "0  displacement  Feature   Continuous        None        None  None   \n",
      "1           mpg   Target   Continuous        None        None  None   \n",
      "2     cylinders  Feature      Integer        None        None  None   \n",
      "3    horsepower  Feature   Continuous        None        None  None   \n",
      "4        weight  Feature   Continuous        None        None  None   \n",
      "5  acceleration  Feature   Continuous        None        None  None   \n",
      "6    model_year  Feature      Integer        None        None  None   \n",
      "7        origin  Feature      Integer        None        None  None   \n",
      "8      car_name       ID  Categorical        None        None  None   \n",
      "\n",
      "  missing_values  \n",
      "0             no  \n",
      "1             no  \n",
      "2             no  \n",
      "3            yes  \n",
      "4             no  \n",
      "5             no  \n",
      "6             no  \n",
      "7             no  \n",
      "8             no  \n"
     ]
    }
   ],
   "source": [
    "from ucimlrepo import fetch_ucirepo \n",
    "  \n",
    "# fetch dataset \n",
    "auto_mpg = fetch_ucirepo(id=9) \n",
    "  \n",
    "# data (as pandas dataframes) \n",
    "X = auto_mpg.data.features \n",
    "y = auto_mpg.data.targets \n",
    "  \n",
    "# metadata \n",
    "print(auto_mpg.metadata) \n",
    "  \n",
    "# variable information \n",
    "print(auto_mpg.variables) \n"
   ]
  },
  {
   "cell_type": "markdown",
   "id": "5f7f79e8",
   "metadata": {},
   "source": [
    "Con la función `head` de Pandas podemos ver las primeras filas del dataset."
   ]
  },
  {
   "cell_type": "code",
   "execution_count": 4,
   "id": "242091db",
   "metadata": {},
   "outputs": [
    {
     "data": {
      "text/html": [
       "<div>\n",
       "<style scoped>\n",
       "    .dataframe tbody tr th:only-of-type {\n",
       "        vertical-align: middle;\n",
       "    }\n",
       "\n",
       "    .dataframe tbody tr th {\n",
       "        vertical-align: top;\n",
       "    }\n",
       "\n",
       "    .dataframe thead th {\n",
       "        text-align: right;\n",
       "    }\n",
       "</style>\n",
       "<table border=\"1\" class=\"dataframe\">\n",
       "  <thead>\n",
       "    <tr style=\"text-align: right;\">\n",
       "      <th></th>\n",
       "      <th>displacement</th>\n",
       "      <th>cylinders</th>\n",
       "      <th>horsepower</th>\n",
       "      <th>weight</th>\n",
       "      <th>acceleration</th>\n",
       "      <th>model_year</th>\n",
       "      <th>origin</th>\n",
       "    </tr>\n",
       "  </thead>\n",
       "  <tbody>\n",
       "    <tr>\n",
       "      <th>0</th>\n",
       "      <td>307.0</td>\n",
       "      <td>8</td>\n",
       "      <td>130.0</td>\n",
       "      <td>3504</td>\n",
       "      <td>12.0</td>\n",
       "      <td>70</td>\n",
       "      <td>1</td>\n",
       "    </tr>\n",
       "    <tr>\n",
       "      <th>1</th>\n",
       "      <td>350.0</td>\n",
       "      <td>8</td>\n",
       "      <td>165.0</td>\n",
       "      <td>3693</td>\n",
       "      <td>11.5</td>\n",
       "      <td>70</td>\n",
       "      <td>1</td>\n",
       "    </tr>\n",
       "    <tr>\n",
       "      <th>2</th>\n",
       "      <td>318.0</td>\n",
       "      <td>8</td>\n",
       "      <td>150.0</td>\n",
       "      <td>3436</td>\n",
       "      <td>11.0</td>\n",
       "      <td>70</td>\n",
       "      <td>1</td>\n",
       "    </tr>\n",
       "    <tr>\n",
       "      <th>3</th>\n",
       "      <td>304.0</td>\n",
       "      <td>8</td>\n",
       "      <td>150.0</td>\n",
       "      <td>3433</td>\n",
       "      <td>12.0</td>\n",
       "      <td>70</td>\n",
       "      <td>1</td>\n",
       "    </tr>\n",
       "    <tr>\n",
       "      <th>4</th>\n",
       "      <td>302.0</td>\n",
       "      <td>8</td>\n",
       "      <td>140.0</td>\n",
       "      <td>3449</td>\n",
       "      <td>10.5</td>\n",
       "      <td>70</td>\n",
       "      <td>1</td>\n",
       "    </tr>\n",
       "  </tbody>\n",
       "</table>\n",
       "</div>"
      ],
      "text/plain": [
       "   displacement  cylinders  horsepower  weight  acceleration  model_year  \\\n",
       "0         307.0          8       130.0    3504          12.0          70   \n",
       "1         350.0          8       165.0    3693          11.5          70   \n",
       "2         318.0          8       150.0    3436          11.0          70   \n",
       "3         304.0          8       150.0    3433          12.0          70   \n",
       "4         302.0          8       140.0    3449          10.5          70   \n",
       "\n",
       "   origin  \n",
       "0       1  \n",
       "1       1  \n",
       "2       1  \n",
       "3       1  \n",
       "4       1  "
      ]
     },
     "execution_count": 4,
     "metadata": {},
     "output_type": "execute_result"
    }
   ],
   "source": [
    "X.head()"
   ]
  },
  {
   "cell_type": "code",
   "execution_count": 5,
   "id": "bc6bfba5",
   "metadata": {},
   "outputs": [
    {
     "data": {
      "text/html": [
       "<div>\n",
       "<style scoped>\n",
       "    .dataframe tbody tr th:only-of-type {\n",
       "        vertical-align: middle;\n",
       "    }\n",
       "\n",
       "    .dataframe tbody tr th {\n",
       "        vertical-align: top;\n",
       "    }\n",
       "\n",
       "    .dataframe thead th {\n",
       "        text-align: right;\n",
       "    }\n",
       "</style>\n",
       "<table border=\"1\" class=\"dataframe\">\n",
       "  <thead>\n",
       "    <tr style=\"text-align: right;\">\n",
       "      <th></th>\n",
       "      <th>mpg</th>\n",
       "    </tr>\n",
       "  </thead>\n",
       "  <tbody>\n",
       "    <tr>\n",
       "      <th>0</th>\n",
       "      <td>18.0</td>\n",
       "    </tr>\n",
       "    <tr>\n",
       "      <th>1</th>\n",
       "      <td>15.0</td>\n",
       "    </tr>\n",
       "    <tr>\n",
       "      <th>2</th>\n",
       "      <td>18.0</td>\n",
       "    </tr>\n",
       "    <tr>\n",
       "      <th>3</th>\n",
       "      <td>16.0</td>\n",
       "    </tr>\n",
       "    <tr>\n",
       "      <th>4</th>\n",
       "      <td>17.0</td>\n",
       "    </tr>\n",
       "  </tbody>\n",
       "</table>\n",
       "</div>"
      ],
      "text/plain": [
       "    mpg\n",
       "0  18.0\n",
       "1  15.0\n",
       "2  18.0\n",
       "3  16.0\n",
       "4  17.0"
      ]
     },
     "execution_count": 5,
     "metadata": {},
     "output_type": "execute_result"
    }
   ],
   "source": [
    "y.head()"
   ]
  },
  {
   "cell_type": "markdown",
   "id": "d3200c25-5a69-4971-9e21-604f063e73de",
   "metadata": {},
   "source": [
    "En este punto, puedes hacer cualquier otro análisis exploratorio que creas conveniente."
   ]
  },
  {
   "cell_type": "markdown",
   "id": "f1937b9f",
   "metadata": {},
   "source": [
    "A continuación, crea una función a la que le pases los dataframes de features y de target y el nombre de la variable y haga la gráfica del target (consumo en millas por galón) vs la variable que le ha llegado por parámetro. Puedes ver un ejemplo de gráfica más abajo, pero usa los parámetros que quieras en cuanto a color de los puntos, grids etc."
   ]
  },
  {
   "cell_type": "code",
   "execution_count": 6,
   "id": "13197dad",
   "metadata": {},
   "outputs": [
    {
     "data": {
      "image/png": "[encoded data removed]",
      "text/plain": [
       "<Figure size 640x480 with 1 Axes>"
      ]
     },
     "metadata": {},
     "output_type": "display_data"
    }
   ],
   "source": [
    "import matplotlib.pyplot as plt\n",
    "\n",
    "def visualiza(df, y, nombre_columna):\n",
    "    plt.scatter(df[nombre_columna],y)\n",
    "    plt.xlabel(nombre_columna)\n",
    "    plt.ylabel('mpg')\n",
    "    plt.title(f'Relación entre {nombre_columna} y mpg')\n",
    "    plt.show()\n",
    "    \n",
    "\n",
    "visualiza(X, y, 'horsepower')"
   ]
  },
  {
   "cell_type": "code",
   "execution_count": 7,
   "id": "59db67f0",
   "metadata": {},
   "outputs": [
    {
     "data": {
      "image/png": "[encoded data removed]",
      "text/plain": [
       "<Figure size 640x480 with 1 Axes>"
      ]
     },
     "metadata": {},
     "output_type": "display_data"
    }
   ],
   "source": [
    "visualiza(X, y, 'acceleration')"
   ]
  },
  {
   "cell_type": "code",
   "execution_count": 8,
   "id": "b61b921b",
   "metadata": {},
   "outputs": [
    {
     "data": {
      "image/png": "[encoded data removed]",
      "text/plain": [
       "<Figure size 640x480 with 1 Axes>"
      ]
     },
     "metadata": {},
     "output_type": "display_data"
    }
   ],
   "source": [
    "visualiza(X, y, 'weight')"
   ]
  },
  {
   "cell_type": "markdown",
   "id": "5d52295e-3ae0-41e4-acce-0fad24a4cadb",
   "metadata": {},
   "source": [
    "IMPORTANTE: Aunque lo ideal sería un modelo multivariante, vamos a elegir la variable `weight` y hacer una regresión lineal solo con esta variable."
   ]
  },
  {
   "cell_type": "markdown",
   "id": "58c9aff9",
   "metadata": {},
   "source": [
    "### 1.2 Implementación del modelo\n",
    "\n",
    "En este punto vamos a dar un paso atrás y olvidarnos de los datos de consumo por un momento, porque el algoritmo que vamos a implementar serviría para cualquier conjunto de datos.\n",
    "\n",
    "Lo primero, implementa una función que devuelva los valores de $\\widehat{w}$ dados X e y. Si se da el caso de que el dataset tiene más features que observaciones, queremos transponerlo antes de realizar las operaciones. Lo hacemos porque, como vimos en clase, los resultados no van a ser buenos si el número de observaciones es menor.\n"
   ]
  },
  {
   "cell_type": "code",
   "execution_count": 48,
   "id": "741a496b",
   "metadata": {},
   "outputs": [],
   "source": [
    "import numpy as np\n",
    "\n",
    "def pesos_ols(X, y):\n",
    "    # Implementa la fórmula matricial\n",
    "\n",
    "    # TODO 1: Comprueba que las dimensiones son adecuadas y corrige si no es así\n",
    "    if X.shape[1] > X.shape[0]:\n",
    "        X = X.T\n",
    "    \n",
    "    # TODO 2: Prepara la matriz X para que tenga la forma adecuada para aplicar la fórmula \n",
    "    X_b = np.hstack((np.ones((X.shape[0], 1)), X))\n",
    "\n",
    "    # TODO 3: Calcula los pesos\n",
    "    w = np.linalg.inv(X_b.T @ X_b) @ X_b.T @ y\n",
    "\n",
    "    return w"
   ]
  },
  {
   "cell_type": "code",
   "execution_count": 49,
   "id": "20ebe4da",
   "metadata": {},
   "outputs": [
    {
     "data": {
      "text/plain": [
       "array([-2.29223802e+06,  5.92536529e+01,  1.20780450e+03])"
      ]
     },
     "execution_count": 49,
     "metadata": {},
     "output_type": "execute_result"
    }
   ],
   "source": [
    "# Array de prueba!!\n",
    "X = np.array([[1710, 1262, 1786, 1717, 2198, 1362, 1694, 2090, 1774, 1077], \n",
    "              [2003, 1976, 2001, 1915, 2000, 1993, 2004, 1973, 1931, 1939]])\n",
    "y = np.array([208500, 181500, 223500, 140000, 250000, 143000, 307000, 200000, 129900, 118000])\n",
    "pesos_ols(X, y)"
   ]
  },
  {
   "cell_type": "markdown",
   "id": "ae19e4b9-8ea8-4678-86f9-b05a460fc57c",
   "metadata": {},
   "source": [
    "Hemos implementado el algoritmo de mínimos cuadrados y lo hemos probado en un array de tamaño 2x10. Como pista, el resultado que he obtenido para este array de prueba es el siguiente:\n",
    "\n",
    "array([-2.29223802e+06,  5.92536529e+01,  1.20780450e+03])"
   ]
  },
  {
   "cell_type": "markdown",
   "id": "5cb5c0f5",
   "metadata": {},
   "source": [
    "### 1.3 Prueba del modelo en los datos de consumo de coches\n",
    "\n",
    "Ya podemos usar nuestra función `pesos` en el dataset real que hemos descargado, el de consumo de combustible. Para ver el ajuste, dibuja de nuevo los datos junto con la recta que has obtenido, en la misma gráfica. Tendrás que convertir los dataframes de Pandas en arrays de numpy para poder aplicar las operaciones matriciales.\n",
    "\n",
    "TIP: Revisa las dimensiones de todos los arrays para ver que son correctas."
   ]
  },
  {
   "cell_type": "code",
   "execution_count": 73,
   "id": "0cd540a8",
   "metadata": {},
   "outputs": [
    {
     "name": "stdout",
     "output_type": "stream",
     "text": [
      "Punto de corte (w0): 46.317364420265655\n",
      "Pendiente (w1): -0.007676610063926457\n"
     ]
    },
    {
     "data": {
      "image/png": "[encoded data removed]",
      "text/plain": [
       "<Figure size 640x480 with 1 Axes>"
      ]
     },
     "metadata": {},
     "output_type": "display_data"
    }
   ],
   "source": [
    "# Preparar los datos\n",
    "X_weight = np.array(X['weight']).reshape(-1,1)\n",
    "y_mpg = np.array(y['mpg'])\n",
    "\n",
    "# Calcular los pesos\n",
    "pesos = pesos_ols(X_weight, y_mpg)\n",
    "print(\"Punto de corte (w0):\", pesos[0])\n",
    "print(\"Pendiente (w1):\", pesos[1])\n",
    "\n",
    "# Ajustar función de visualización\n",
    "def visualiza(df, y, nombre_columna, pesos=None):\n",
    "    plt.scatter(df[nombre_columna], y)\n",
    "    plt.xlabel(nombre_columna)\n",
    "    plt.ylabel('mpg')\n",
    "    plt.title(f'Relación entre {nombre_columna} y mpg')\n",
    "    \n",
    "    # Dibujar la recta de regresión a partir de los pesos\n",
    "    if pesos is not None:  # Si se pasa parametro pesos\n",
    "        x_plot = np.linspace(df[nombre_columna].min(), df[nombre_columna].max(), 100)\n",
    "        y_plot = pesos[0] + pesos[1] * x_plot\n",
    "        plt.plot(x_plot, y_plot, color='red', label='Regresión lineal')\n",
    "        plt.legend()\n",
    "    \n",
    "    plt.show()\n",
    "\n",
    "# Visualizar\n",
    "visualiza(X, y, 'weight', pesos)"
   ]
  },
  {
   "cell_type": "markdown",
   "id": "88fcbf61",
   "metadata": {},
   "source": [
    "Por último, vamos a comprar el resultado con el que nos da `scikit-learn`para ver si nuestra implementación tiene buena pinta. Podemos ver cómo funciona en la [documentación](https://scikit-learn.org/stable/modules/generated/sklearn.linear_model.LinearRegression.html)."
   ]
  },
  {
   "cell_type": "code",
   "execution_count": 72,
   "id": "ac02e261",
   "metadata": {},
   "outputs": [
    {
     "name": "stdout",
     "output_type": "stream",
     "text": [
      "Punto de corte: [46.31736442]\n",
      "Pendiente: [[-0.00767661]]\n"
     ]
    }
   ],
   "source": [
    "from sklearn.linear_model import LinearRegression\n",
    "\n",
    "# Creamos el objeto\n",
    "lr = LinearRegression()\n",
    "\n",
    "# Le pasamos los datos en el formato correcto\n",
    "X = auto_mpg.data.features \n",
    "y = auto_mpg.data.targets \n",
    "\n",
    "X_lr = X[['weight']]\n",
    "y_lr = y[['mpg']]\n",
    "\n",
    "# Entrenamos con los datos\n",
    "lr.fit(X_lr,y_lr)\n",
    "print(\"Punto de corte:\", lr.intercept_)\n",
    "print(\"Pendiente:\", lr.coef_)"
   ]
  },
  {
   "cell_type": "code",
   "execution_count": 80,
   "id": "a8772c30",
   "metadata": {},
   "outputs": [
    {
     "data": {
      "text/plain": [
       "array([-1.41852276e+00, -2.96764345e+00, -1.94053224e+00, -3.96356207e+00,\n",
       "       -2.84073631e+00,  2.00679987e+00,  1.10659580e+00,  7.84178175e-01,\n",
       "        1.65163511e+00, -1.76241567e+00, -3.96560276e+00, -4.61247870e+00,\n",
       "       -2.44563397e+00, -8.62734576e+00, -4.10844535e+00, -2.56952811e+00,\n",
       "       -7.02244810e+00, -5.45797418e+00, -2.96618498e+00, -6.23078495e+00,\n",
       "       -8.05462329e-01, -3.66320196e+00, -3.08541552e+00, -3.16781754e+00,\n",
       "       -4.98970097e+00, -8.89808975e-01, -2.72451878e+00, -1.67845912e+00,\n",
       "       -9.91645598e-01, -2.96618498e+00, -9.37519236e-01, -4.21387720e+00,\n",
       "       -5.61102023e+00, -7.09717351e+00, -3.91750241e+00, -3.76192952e+00,\n",
       "       -1.96919799e+00, -3.07667053e+00, -6.51266120e-03,  1.95102291e+00,\n",
       "       -4.28726215e-01, -8.73969598e-01,  3.72023845e+00,  3.11582694e+00,\n",
       "        6.14041131e+00, -5.57924541e+00, -5.83208739e+00, -2.12273019e+00,\n",
       "       -4.22048543e+00, -6.27529008e+00, -2.01992125e+00, -3.96075148e-01,\n",
       "       -4.65164638e-01, -1.70673478e+00,  1.06500761e+00, -5.23846156e+00,\n",
       "       -5.30959175e+00, -4.83004669e+00, -4.99689142e+00, -6.01428534e+00,\n",
       "       -7.83208739e+00, -8.22923042e+00, -5.07533007e-01,  1.34457071e+00,\n",
       "        4.25418194e-01, -6.20641466e-01, -1.12885227e+00,  2.48370006e-01,\n",
       "        1.24273409e+00, -1.10389975e-01,  6.28605282e-01, -9.43086297e+00,\n",
       "       -1.43999805e+00, -1.85861638e+00, -3.54000806e-01, -1.01982519e+00,\n",
       "       -5.80186710e+00, -5.04139655e+00, -2.44874304e+00, -3.51326499e+00,\n",
       "       -5.93188332e+00, -7.53280594e-01, -4.07977960e+00, -1.70518024e+00,\n",
       "       -3.19648329e+00, -1.84326316e+00, -4.12885227e+00, -2.70304349e+00,\n",
       "       -1.28850654e+00, -2.32280821e+00,  3.69720862e+00,  9.51022905e-01,\n",
       "        1.75685289e-01,  2.08432421e-01,  3.03138423e+00,  3.68953201e+00,\n",
       "       -3.98503737e+00, -4.35866441e+00, -5.15343663e+00, -5.70974778e+00,\n",
       "       -5.12632542e+00, -1.02448879e+00, -5.34797480e+00,  3.04265607e+00,\n",
       "        3.34408455e+00,  2.40957882e+00,  2.19704257e-01, -6.90729895e+00,\n",
       "       -8.82237008e+00, -6.88582366e+00, -6.05470908e+00, -1.20122446e+01,\n",
       "       -9.58439517e+00, -6.34078434e+00, -2.92984263e+00,  1.85578607e-02,\n",
       "        2.52317343e+00, -2.98513343e+00, -5.75123990e+00, -6.49635724e+00,\n",
       "       -5.30084676e+00, -5.22456681e+00, -1.89758165e+00, -4.76911997e+00,\n",
       "       -7.19026515e+00, -2.50452000e+00, -3.24711049e+00, -5.04751862e+00,\n",
       "       -5.70819325e+00, -3.47974796e-01, -1.50199315e+00, -2.23108343e-01,\n",
       "       -1.80342164e+00, -1.29210177e+00, -2.43591667e+00, -5.81772259e-01,\n",
       "        1.47147785e+00,  2.75502627e+00,  1.89728663e+00,  3.28675306e+00,\n",
       "        3.61964622e-01, -2.82966688e-01, -5.24817886e+00, -2.66116127e+00,\n",
       "       -2.65863442e+00,  1.05888554e+00, -2.00456803e+00, -6.13507041e+00,\n",
       "       -3.07569822e+00, -3.21028197e+00, -1.96258976e+00,  3.58557076e-02,\n",
       "       -2.26090917e+00, -1.76397021e+00, -4.97123868e+00, -7.07462984e+00,\n",
       "        5.51705136e+00,  2.76678426e+00,  4.21202765e+00,  3.43260865e+00,\n",
       "        6.75151099e-01, -4.01615001e-01, -2.68360888e+00,  7.38604672e-01,\n",
       "       -1.98814644e+00, -1.59100340e+00, -8.99018713e+00, -6.51443971e-01,\n",
       "       -3.05879046e+00, -3.94772269e+00, -3.41959113e+00, -1.57516403e+00,\n",
       "       -4.25226025e+00, -2.78039181e+00, -5.41035999e+00, -2.44777073e+00,\n",
       "       -2.66776950e+00, -2.63657691e+00, -6.17628461e-01, -1.70974778e+00,\n",
       "       -8.13138940e-01,  4.62150644e-01,  5.97802777e-01, -4.27529008e+00,\n",
       "       -1.57312334e+00, -3.00660873e+00, -2.41346906e+00,  3.53954700e+00,\n",
       "        1.84763175e+00, -4.02635347e-01,  5.39546999e-01,  5.01115916e-01,\n",
       "        1.42230912e+00,  8.04585092e-01, -1.35022373e-01, -1.69546294e+00,\n",
       "       -5.20518024e+00, -2.44777073e+00,  4.62150644e-01,  1.70993892e+00,\n",
       "       -8.81160052e-01,  1.63879263e-01, -4.30594849e+00, -2.80755105e+00,\n",
       "        9.59089607e-01, -1.77426973e+00, -1.26859606e-01, -2.13604272e+00,\n",
       "       -3.07152077e+00, -2.21484951e+00, -4.82489693e+00, -4.92713976e-01,\n",
       "        3.80618766e+00, -2.18871061e+00, -3.60888347e+00, -4.49169363e+00,\n",
       "        8.81303160e-01,  2.25730267e-01,  3.69244895e+00, -3.16116127e+00,\n",
       "        2.11364215e+00,  9.67882628e-01,  1.84967244e+00,  9.63801244e-01,\n",
       "        1.65367580e+00, -1.79569700e+00,  4.75025049e-01,  5.48730112e-01,\n",
       "       -7.57313945e-01,  2.07793005e+00,  1.15571650e+00,  2.38397411e+00,\n",
       "        2.96074021e+00, -2.42474090e+00, -7.83452845e-01, -2.92984263e+00,\n",
       "        3.31696306e-01, -7.26371792e-02,  3.11160146e+00, -1.07929344e+00,\n",
       "        9.94411620e-01, -2.70770709e+00, -4.85817825e+00, -3.93698505e+00,\n",
       "        1.20207066e+01,  3.60053369e+00,  1.72070656e+00,  8.97321841e+00,\n",
       "        3.60053369e+00, -5.85571555e-01,  1.75477417e+00,  1.28813351e+00,\n",
       "        1.94521557e-02, -1.59765967e+00, -3.35621558e+00, -3.36985046e-01,\n",
       "        5.13408099e-01, -2.27544612e+00,  2.29577596e-01, -1.95017152e+00,\n",
       "        7.19640111e-02, -2.04012410e+00, -8.24974951e-01, -2.17144275e+00,\n",
       "       -3.61382917e+00,  2.50320464e+00,  2.25730267e-01,  8.34757343e-01,\n",
       "       -1.46116127e+00,  1.70147602e+00, -5.91069011e+00, -2.04506979e+00,\n",
       "       -6.00642688e-01, -3.95511722e+00, -4.29255794e+00, -5.21280882e+00,\n",
       "       -3.26123929e+00, -3.94012410e+00,  4.59089607e-01, -4.27801934e-01,\n",
       "        9.32352372e-02, -3.56430033e+00, -1.83196134e+00, -1.05323256e+00,\n",
       "        7.60453945e-02,  1.60818225e-01, -1.21991932e-01,  5.43628383e-01,\n",
       "        1.28405212e+00,  4.05265546e+00,  3.03612779e-01,  5.56814860e-01,\n",
       "        2.42847923e+00,  3.60109953e-01,  2.94394046e+00,  4.08334385e+00,\n",
       "        1.57918445e+00,  6.18106911e+00,  6.62141483e+00,  5.37102168e+00,\n",
       "        3.83664200e+00,  4.77117772e+00,  4.68734722e+00,  9.89387909e-01,\n",
       "        7.33381502e+00,  2.57918445e+00,  2.40343870e+00,  1.20948275e+00,\n",
       "        6.80405090e+00,  1.16412876e+01,  6.89020419e+00,  2.05704892e+00,\n",
       "        6.38171130e+00,  2.24059733e+00,  2.11450646e+00,  1.03549560e+00,\n",
       "       -1.26274579e+00,  4.77905840e+00,  4.29392546e+00,  4.49657836e+00,\n",
       "        9.36750448e+00,  3.27015737e+00,  1.64802828e+01,  3.07714376e+00,\n",
       "        1.06802828e+01,  1.39883676e+01,  1.50075201e+01,  1.27286353e+01,\n",
       "        8.63161829e+00,  1.24843642e+01,  8.66921505e+00,  3.94896417e+00,\n",
       "       -2.35401885e+00,  8.72157087e+00, -4.03996807e+00,  7.87416074e+00,\n",
       "       -4.16812185e-01,  3.66207263e+00, -2.60536109e-03,  5.10503098e-01,\n",
       "       -4.04646053e-01, -1.89860200e+00,  1.99135058e+00,  6.25508624e+00,\n",
       "        7.07627945e+00,  2.29346929e+00,  1.83483536e+00,  5.84394046e+00,\n",
       "        7.11968621e+00,  3.02070656e+00,  5.38632687e+00,  3.78130316e+00,\n",
       "        1.85296753e+00,  3.49441162e+00,  5.99237093e+00,  4.34794382e+00,\n",
       "        4.12266923e+00,  6.65697090e+00,  5.51050310e+00,  6.57808609e+00,\n",
       "        8.64072338e+00,  1.34480477e+00,  3.75103067e-01,  2.29825895e+00,\n",
       "        8.87800807e+00, -2.62693762e+00, -2.11791055e+00,  1.68020480e+00,\n",
       "        9.48886149e-01,  6.06811668e+00,  4.44990649e+00,  2.06607599e+00,\n",
       "        1.67816410e+00, -3.23876587e-01, -1.88528762e-02,  4.88232351e+00,\n",
       "        6.22777096e+00, -1.94442594e-01,  7.99543197e+00,  5.99543197e+00,\n",
       "        6.26411332e+00,  6.60956077e+00,  4.91662517e+00,  6.76717436e+00,\n",
       "        7.67174355e-01,  6.99747266e+00,  1.29025222e+00,  1.48276149e+01,\n",
       "       -4.73327405e-01, -2.55417489e+00,  6.14080140e+00,  7.87620143e+00,\n",
       "        3.32863527e+00,  2.10037766e+00,  1.40338150e+01,  3.30045568e+00,\n",
       "        1.83373700e+00,  5.56301495e+00])"
      ]
     },
     "execution_count": 80,
     "metadata": {},
     "output_type": "execute_result"
    }
   ],
   "source": [
    "# Residuos metodo 1\n",
    "y_pred = pesos[0] + pesos[1] * X_weight.flatten()\n",
    "residuos = y_mpg - y_pred\n",
    "residuos"
   ]
  },
  {
   "cell_type": "code",
   "execution_count": 78,
   "id": "ffec3aff",
   "metadata": {},
   "outputs": [
    {
     "data": {
      "text/html": [
       "<div>\n",
       "<style scoped>\n",
       "    .dataframe tbody tr th:only-of-type {\n",
       "        vertical-align: middle;\n",
       "    }\n",
       "\n",
       "    .dataframe tbody tr th {\n",
       "        vertical-align: top;\n",
       "    }\n",
       "\n",
       "    .dataframe thead th {\n",
       "        text-align: right;\n",
       "    }\n",
       "</style>\n",
       "<table border=\"1\" class=\"dataframe\">\n",
       "  <thead>\n",
       "    <tr style=\"text-align: right;\">\n",
       "      <th></th>\n",
       "      <th>mpg</th>\n",
       "    </tr>\n",
       "  </thead>\n",
       "  <tbody>\n",
       "    <tr>\n",
       "      <th>0</th>\n",
       "      <td>-1.418523</td>\n",
       "    </tr>\n",
       "    <tr>\n",
       "      <th>1</th>\n",
       "      <td>-2.967643</td>\n",
       "    </tr>\n",
       "    <tr>\n",
       "      <th>2</th>\n",
       "      <td>-1.940532</td>\n",
       "    </tr>\n",
       "    <tr>\n",
       "      <th>3</th>\n",
       "      <td>-3.963562</td>\n",
       "    </tr>\n",
       "    <tr>\n",
       "      <th>4</th>\n",
       "      <td>-2.840736</td>\n",
       "    </tr>\n",
       "    <tr>\n",
       "      <th>...</th>\n",
       "      <td>...</td>\n",
       "    </tr>\n",
       "    <tr>\n",
       "      <th>393</th>\n",
       "      <td>2.100378</td>\n",
       "    </tr>\n",
       "    <tr>\n",
       "      <th>394</th>\n",
       "      <td>14.033815</td>\n",
       "    </tr>\n",
       "    <tr>\n",
       "      <th>395</th>\n",
       "      <td>3.300456</td>\n",
       "    </tr>\n",
       "    <tr>\n",
       "      <th>396</th>\n",
       "      <td>1.833737</td>\n",
       "    </tr>\n",
       "    <tr>\n",
       "      <th>397</th>\n",
       "      <td>5.563015</td>\n",
       "    </tr>\n",
       "  </tbody>\n",
       "</table>\n",
       "<p>398 rows × 1 columns</p>\n",
       "</div>"
      ],
      "text/plain": [
       "           mpg\n",
       "0    -1.418523\n",
       "1    -2.967643\n",
       "2    -1.940532\n",
       "3    -3.963562\n",
       "4    -2.840736\n",
       "..         ...\n",
       "393   2.100378\n",
       "394  14.033815\n",
       "395   3.300456\n",
       "396   1.833737\n",
       "397   5.563015\n",
       "\n",
       "[398 rows x 1 columns]"
      ]
     },
     "execution_count": 78,
     "metadata": {},
     "output_type": "execute_result"
    }
   ],
   "source": [
    "# Residuos Método 2 (sklearn)\n",
    "y_pred_sklearn = lr.predict(X_lr)\n",
    "residuos_sklearn = y_lr - y_pred_sklearn\n",
    "residuos_sklearn\n"
   ]
  },
  {
   "cell_type": "code",
   "execution_count": 84,
   "id": "9374e08a",
   "metadata": {},
   "outputs": [
    {
     "name": "stdout",
     "output_type": "stream",
     "text": [
      "R^2 (manual): 0.6917929800341573\n",
      "R^2 (scikit-learn): 0.6917929800341573\n"
     ]
    }
   ],
   "source": [
    "# R cuadrado\n",
    "# Método 1 (manual)\n",
    "ss_res = np.sum((y_mpg - y_pred)**2)  \n",
    "ss_tot = np.sum((y_mpg - np.mean(y_mpg))**2) \n",
    "r2_manual = 1 - (ss_res / ss_tot)\n",
    "print(\"R^2 (manual):\", r2_manual)\n",
    "\n",
    "# Método 2 (sklearn)\n",
    "r2_sklearn = lr.score(X_lr, y_lr)\n",
    "print(\"R^2 (scikit-learn):\", r2_sklearn)\n"
   ]
  },
  {
   "cell_type": "markdown",
   "id": "a2571861",
   "metadata": {},
   "source": [
    "**TODO**: Analiza el resultado obtenido y compáralo con el de sklearn\n",
    "\n",
    "Ambos modelos coinciden en valores de punto de corte, pendiente, así como en el residuo y en el R cuadrado. \n",
    "Esto indica que la implementación del modelo es correcta. \n",
    "Aunque usar scikit-learn es mucho más rápido y fiable, ya que el modelo presenta varios puntos críticos que pueden fallar a la hora de la implementación como por ejemplo cambiar el dataframe por arrays para poder hacer las operaciones con matrices. "
   ]
  },
  {
   "cell_type": "markdown",
   "id": "4aa24d2c",
   "metadata": {},
   "source": [
    "### 1.4 Compara el método de mínimos cuadrados y el descenso del gradiente para obtener los coeficientes de una regresión lineal\n",
    "\n"
   ]
  },
  {
   "cell_type": "markdown",
   "id": "3e9b06f2",
   "metadata": {},
   "source": [
    "* El **método de mínimos**:\n",
    "    * Pasos:\n",
    "        1. Preparar los datos.\n",
    "            - Verificar que las dimensiones de las matrices son adecuadas.\n",
    "            - Añadir una columna de unos a la matriz \n",
    "        2. Calcular los pesos\n",
    "    * Es mejor cuando nuestro conjunto de datos es menor y las relaciones entre nuestras variables están bien definidas. En este caso, obtendremos una solución rápida y más directa.\n",
    "\n",
    "* El **descenso de gradientes**:\n",
    "    * Pasos:\n",
    "        1. Preparar los datos.\n",
    "            - Verificar que las dimensiones de las matrices son adecuadas.\n",
    "        2. Iniciar los parámetros para los pesos e iterar.\n",
    "        3. Calcular Learning Rate\n",
    "        4. Calcular el gradiente de la función de coste.\n",
    "    * Es más adecuado para conjuntos de datos grandes o cuando las relaciones entre las variables son complejas o hay muchas variables, lo que hace aumentar la complejidad del modelo."
   ]
  },
  {
   "cell_type": "markdown",
   "id": "77098377",
   "metadata": {},
   "source": [
    "## 2. Optimización con descenso del gradiente [OPCIONAL]\n",
    "\n",
    "Este ejercicio es opcional, no es necesario hacerlo para conseguir el APTO en la práctica, pero podéis hacerlo si queréis practicar más sobre el método del descenso del gradiente, que es muy importante en machine learning.\n",
    "\n",
    "Vamos a resolver el mismo problema usando el descenso del gradiente en lugar de la solución analítica. El descenso del gradiente es un método de optimización iterativo que usa el operador gradiente.\n",
    "\n",
    "Como es iterativo, necesitamos decirle cuándo tiene que parar y darnos la solución. En este caso, le vamos a decir que pare y nos devuelva la solución después de un número de iteraciones que le pasaremos como parámetro. La ecuación iterativa es.\n",
    "\n",
    "$$w^{t+1} = w^t - \\eta \\cdot \\nabla f(w)$$\n",
    "\n",
    "donde f es nuestra función objetivo, y w es un vector. Para la función objetivo, vamos a usar el error RSS, que querremos minimizar.\n",
    "\n",
    "$$ RSS(w) = \\frac{1}{2}\\sum_{n=1}^{N}[y_n-f(x_n)]^2$$\n",
    "\n",
    "y cuyo gradiente es:\n",
    "\n",
    "$$\\nabla RSS(w) = X^T(Xw^t-y)$$\n",
    "\n",
    "TIP: Ten en cuenta que el RSS también lo puedes escribir como $\\frac{1}{2}\\sum_{n=1}^{N}[y_n-\\hat{y_n}]^2$ donde $\\hat{y_n} = X \\hat{w}$ en cada paso."
   ]
  },
  {
   "cell_type": "markdown",
   "id": "446ad8dd",
   "metadata": {},
   "source": [
    "### 2.1 Implementar el descenso del gradiente\n",
    "\n",
    "Completa las siguientes funciones para implementar el descenso del gradiente con la función objetivo de la regresión lineal. La función necesitará:\n",
    "\n",
    "- La entrada X y salida y de la regresión\n",
    "- Un punto inicial desde el que empezar a iterar\n",
    "- El número de iteraciones \n",
    "- El learning rate\n",
    "\n",
    "La función nos devolverá un array con las w resultantes de las iteraciones y otro con el valor de la función en cada paso del algoritmo, a la que también se conoce como *loss function*."
   ]
  },
  {
   "cell_type": "code",
   "execution_count": 100,
   "id": "a73d5785",
   "metadata": {},
   "outputs": [
    {
     "name": "stdout",
     "output_type": "stream",
     "text": [
      "[[183695.36963666]\n",
      " [ 40682.97678324]]\n"
     ]
    }
   ],
   "source": [
    "import numpy as np\n",
    "\n",
    "def gradient_descent(X, y, w0, n_iter, eta): \n",
    "    # Define la función que calcule n_iter iteraciones del descenso del gradiente\n",
    "    # Inicializamos variables\n",
    "    # Si eliges otra forma de resolverlo, puedes borrar esta parte\n",
    "    loss_iter = [np.inf]\n",
    "    w_iter = [w0]\n",
    "    w = w0\n",
    "    \n",
    "    # TODO 1 Añade la columna de 1s\n",
    "\n",
    "    X = np.concatenate((np.ones((X.shape[0], 1)), X), axis=1)\n",
    "    \n",
    "    # TODO 2 Haz un bucle para las iteraciones \n",
    "\n",
    "    for i in range(n_iter):\n",
    "        # Predicción\n",
    "        y_pred = np.dot(X, w)\n",
    "        # Error\n",
    "        error = y_pred - y\n",
    "        # Gradiente del RSS\n",
    "        gradient = np.dot(X.T, error) / len(y)\n",
    "        # Actualización de los pesos\n",
    "        w = w - eta * gradient\n",
    "\n",
    "        # TODO 3 Dentro del bucle tendrás que actualizar el error y los pesos y añadirlos a las listas\n",
    "        current_loss = np.sum(error**2) / 2\n",
    "        loss_iter.append(current_loss)\n",
    "        w_iter.append(w)\n",
    "\n",
    "    # Devuelve los resultados\n",
    "    return np.array(w_iter), np.array(loss_iter)\n",
    "\n",
    "\n",
    "eta = 0.01 \n",
    "iteraciones = 2000 \n",
    "\n",
    "np.random.seed(123)\n",
    "w0 = np.random.rand(2).reshape((2,1))\n",
    "\n",
    "y = np.array([208500, 181500, 223500, 140000, 250000]).reshape((5,1))\n",
    "X = np.array( [[  0.37020659],\n",
    "               [  -0.48234664],\n",
    "               [  0.51483616],\n",
    "               [  0.38352774],\n",
    "               [  1.29888065]])\n",
    "\n",
    "weights, loss = gradient_descent(X, y, w0, iteraciones, eta)\n",
    "\n",
    "print(weights[-1])"
   ]
  },
  {
   "cell_type": "markdown",
   "id": "6d6e3013",
   "metadata": {},
   "source": [
    "### 2.2 Aplicar al dataset de consumo de combustible\n",
    "\n",
    "Leemos de nuevo los datos y aplicamos la función que acabamos de programar."
   ]
  },
  {
   "cell_type": "code",
   "execution_count": 14,
   "id": "5b684062",
   "metadata": {},
   "outputs": [
    {
     "name": "stdout",
     "output_type": "stream",
     "text": [
      "(398, 1)\n",
      "(398, 1)\n"
     ]
    }
   ],
   "source": [
    "from ucimlrepo import fetch_ucirepo \n",
    "  \n",
    "# fetch dataset \n",
    "auto_mpg = fetch_ucirepo(id=9) \n",
    "  \n",
    "# data (as pandas dataframes) \n",
    "X = auto_mpg.data.features \n",
    "y = auto_mpg.data.targets \n",
    "  \n",
    "# convert to numpy\n",
    "X_np = X['weight'].to_numpy().reshape((X.shape[0], 1))\n",
    "y_np = y.to_numpy()\n",
    "\n",
    "print(X_np.shape)\n",
    "print(y_np.shape)"
   ]
  },
  {
   "cell_type": "markdown",
   "id": "94d27c55",
   "metadata": {},
   "source": [
    "Para ayudar al algoritmo, vamos a escalar la variable X, restando la media y dividiendo entre la desviación estándar. Después aplicamos la función anterior y dibujamos."
   ]
  },
  {
   "cell_type": "code",
   "execution_count": 103,
   "id": "b5438c2a",
   "metadata": {},
   "outputs": [
    {
     "ename": "ValueError",
     "evalue": "shapes (398,3) and (2,1) not aligned: 3 (dim 1) != 2 (dim 0)",
     "output_type": "error",
     "traceback": [
      "\u001b[1;31m---------------------------------------------------------------------------\u001b[0m",
      "\u001b[1;31mValueError\u001b[0m                                Traceback (most recent call last)",
      "Cell \u001b[1;32mIn[103], line 23\u001b[0m\n\u001b[0;32m     20\u001b[0m \u001b[38;5;66;03m# TODO 2 Aplicamos el algoritmo\u001b[39;00m\n\u001b[0;32m     22\u001b[0m X_gd \u001b[38;5;241m=\u001b[39m np\u001b[38;5;241m.\u001b[39mhstack([np\u001b[38;5;241m.\u001b[39mones((X_gd\u001b[38;5;241m.\u001b[39mshape[\u001b[38;5;241m0\u001b[39m], \u001b[38;5;241m1\u001b[39m)), X_gd])\n\u001b[1;32m---> 23\u001b[0m weights \u001b[38;5;241m=\u001b[39m \u001b[43mgradient_descent\u001b[49m\u001b[43m(\u001b[49m\u001b[43mX_gd\u001b[49m\u001b[43m,\u001b[49m\u001b[43m \u001b[49m\u001b[43my_gd\u001b[49m\u001b[43m,\u001b[49m\u001b[43m \u001b[49m\u001b[43mw0\u001b[49m\u001b[43m,\u001b[49m\u001b[43m \u001b[49m\u001b[43miteraciones\u001b[49m\u001b[43m,\u001b[49m\u001b[43m \u001b[49m\u001b[43meta\u001b[49m\u001b[43m)\u001b[49m\n\u001b[0;32m     25\u001b[0m \u001b[38;5;66;03m# Límites de los ejes\u001b[39;00m\n\u001b[0;32m     27\u001b[0m x_max \u001b[38;5;241m=\u001b[39m np\u001b[38;5;241m.\u001b[39mmax(X_gd) \u001b[38;5;241m+\u001b[39m \u001b[38;5;241m1\u001b[39m\n",
      "Cell \u001b[1;32mIn[100], line 19\u001b[0m, in \u001b[0;36mgradient_descent\u001b[1;34m(X, y, w0, n_iter, eta)\u001b[0m\n\u001b[0;32m     15\u001b[0m \u001b[38;5;66;03m# TODO 2 Haz un bucle para las iteraciones \u001b[39;00m\n\u001b[0;32m     17\u001b[0m \u001b[38;5;28;01mfor\u001b[39;00m i \u001b[38;5;129;01min\u001b[39;00m \u001b[38;5;28mrange\u001b[39m(n_iter):\n\u001b[0;32m     18\u001b[0m     \u001b[38;5;66;03m# Predicción\u001b[39;00m\n\u001b[1;32m---> 19\u001b[0m     y_pred \u001b[38;5;241m=\u001b[39m \u001b[43mnp\u001b[49m\u001b[38;5;241;43m.\u001b[39;49m\u001b[43mdot\u001b[49m\u001b[43m(\u001b[49m\u001b[43mX\u001b[49m\u001b[43m,\u001b[49m\u001b[43m \u001b[49m\u001b[43mw\u001b[49m\u001b[43m)\u001b[49m\n\u001b[0;32m     20\u001b[0m     \u001b[38;5;66;03m# Error\u001b[39;00m\n\u001b[0;32m     21\u001b[0m     error \u001b[38;5;241m=\u001b[39m y_pred \u001b[38;5;241m-\u001b[39m y\n",
      "\u001b[1;31mValueError\u001b[0m: shapes (398,3) and (2,1) not aligned: 3 (dim 1) != 2 (dim 0)"
     ]
    }
   ],
   "source": [
    "# TODO Aplica el modelo y dibuja la recta junto con los datos\n",
    "\n",
    "X = auto_mpg.data.features\n",
    "y = auto_mpg.data.targets\n",
    "\n",
    "# Escalamos la variable x \n",
    "\n",
    "X_np = X['weight'].to_numpy().reshape((X.shape[0], 1))\n",
    "y_np = y.to_numpy()\n",
    "\n",
    "X_gd=(X_np - X_np.mean()) / X_np.std()\n",
    "y_gd = y_np\n",
    "\n",
    "# TODO 1 Punto inicial y learning rate\n",
    "\n",
    "w0 = np.random.rand(2).reshape((2,1)) \n",
    "eta = 0.01 \n",
    "iteraciones = 2000 \n",
    "\n",
    "# TODO 2 Aplicamos el algoritmo\n",
    "\n",
    "X_gd = np.hstack([np.ones((X_gd.shape[0], 1)), X_gd])\n",
    "weights = gradient_descent(X_gd, y_gd, w0, iteraciones, eta)\n",
    "\n",
    "# Límites de los ejes\n",
    "\n",
    "x_max = np.max(X_gd) + 1\n",
    "x_min = np.min(X_gd) -1\n",
    "\n",
    "\n",
    "# TODO 3 Dibuja la gráfica\n",
    "\n",
    "x_plot = np.linspace(x_min, x_max, 100)\n",
    "y_plot = weights[0] + weights[1] * x_plot\n",
    "\n",
    "plt.figure(figsize=(10, 6))\n",
    "plt.scatter(X_gd[:, 1], y_gd, color='blue', label='Datos Reales')\n",
    "plt.plot(x_plot, y_plot, color='red', label='Recta de Regresión')\n",
    "plt.xlabel('Peso Normalizado')\n",
    "plt.ylabel('Consumo de Combustible (mpg)')\n",
    "plt.title('Relación entre Peso y Consumo de Combustible')\n",
    "plt.legend()\n",
    "plt.show()\n"
   ]
  },
  {
   "cell_type": "code",
   "execution_count": null,
   "id": "9eef178e",
   "metadata": {},
   "outputs": [],
   "source": []
  }
 ],
 "metadata": {
  "kernelspec": {
   "display_name": "big_data",
   "language": "python",
   "name": "python3"
  },
  "language_info": {
   "codemirror_mode": {
    "name": "ipython",
    "version": 3
   },
   "file_extension": ".py",
   "mimetype": "text/x-python",
   "name": "python",
   "nbconvert_exporter": "python",
   "pygments_lexer": "ipython3",
   "version": "3.12.7"
  }
 },
 "nbformat": 4,
 "nbformat_minor": 5
}
